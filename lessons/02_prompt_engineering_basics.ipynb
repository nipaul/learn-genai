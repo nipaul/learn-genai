{
 "cells": [
  {
   "cell_type": "markdown",
   "id": "header",
   "metadata": {},
   "source": [
    "# Lesson 2: Prompt Engineering Fundamentals\n",
    "\n",
    "In this lesson, you'll learn how to craft effective prompts to get better results from LLMs.\n",
    "\n",
    "## Topics Covered\n",
    "1. System vs User messages\n",
    "2. Temperature and sampling parameters\n",
    "3. Few-shot learning\n",
    "4. Prompt templates and best practices\n",
    "5. Output formatting techniques\n",
    "\n",
    "## Learning Objectives\n",
    "- Understand the role of system and user messages\n",
    "- Control creativity and determinism with parameters\n",
    "- Use examples to guide model behavior\n",
    "- Structure prompts for consistent outputs"
   ]
  },
  {
   "cell_type": "code",
   "execution_count": 1,
   "id": "setup",
   "metadata": {},
   "outputs": [
    {
     "name": "stdout",
     "output_type": "stream",
     "text": [
      "OpenAI package version: 2.6.0\n"
     ]
    }
   ],
   "source": [
    "# Install required packages if not already installed\n",
    "#%pip install python-dotenv\n",
    "#%pip install openai\n",
    "\n",
    "# Load environment variables from .env file\n",
    "import os\n",
    "from dotenv import load_dotenv\n",
    "load_dotenv()\n",
    "import openai\n",
    "print(\"OpenAI package version:\", openai.__version__)"
   ]
  },
  {
   "cell_type": "code",
   "execution_count": 2,
   "id": "client_setup",
   "metadata": {},
   "outputs": [
    {
     "name": "stdout",
     "output_type": "stream",
     "text": [
      "Client configured successfully!\n"
     ]
    }
   ],
   "source": [
    "# Set up the OpenAI client with environment variables\n",
    "chat_client = openai.OpenAI(\n",
    "    api_key=os.getenv(\"OPENAI_API_KEY\"),\n",
    "    timeout=int(os.getenv(\"OPENAI_TIMEOUT\", 30)),\n",
    "    max_retries=int(os.getenv(\"MAX_RETRIES\", 3)),\n",
    "    base_url=os.getenv(\"OPENAI_ENDPOINT\")    \n",
    ")\n",
    "\n",
    "print(\"Client configured successfully!\")"
   ]
  },
  {
   "cell_type": "markdown",
   "id": "section1",
   "metadata": {},
   "source": [
    "## 1. System vs User Messages\n",
    "\n",
    "The **system message** sets the behavior and personality of the AI.\n",
    "The **user message** is the actual request or question.\n",
    "\n",
    "Think of it like:\n",
    "- System = \"You are a professional chef\"\n",
    "- User = \"How do I make pasta?\""
   ]
  },
  {
   "cell_type": "code",
   "execution_count": 3,
   "id": "example1a",
   "metadata": {},
   "outputs": [
    {
     "name": "stdout",
     "output_type": "stream",
     "text": [
      "WITHOUT System Message:\n",
      "Photosynthesis is the biological process by which green plants, algae, and some bacteria convert light energy into chemical energy stored in glucose (a sugar) and other organic compounds. This process is fundamental to life on Earth as it is the primary source of energy for nearly all organisms, and it produces oxygen as a byproduct. Here’s a brief overview of how photosynthesis works:\n",
      "\n",
      "### Key Components of Photosynthesis:\n",
      "\n",
      "1. **Chlorophyll**: \n",
      "   - The green pigment found in the chloroplasts of plant cells, chlorophyll absorbs light energy, primarily from the sun.\n",
      "\n",
      "2. **Light Energy**: \n",
      "   - Sunlight provides the energy needed to drive the photosynthetic process.\n",
      "\n",
      "3. **Water (H₂O)**: \n",
      "   - Taken up by the plant roots from the soil, water is split during photosynthesis to provide electrons and protons.\n",
      "\n",
      "4. **Carbon Dioxide (CO₂)**: \n",
      "   - Plants absorb carbon dioxide from the atmosphere through small openings in their leaves called stomata.\n",
      "\n",
      "### The Photosynthesis Process:\n",
      "\n",
      "Photosynthesis occurs in two main stages:\n",
      "\n",
      "1. **Light-dependent Reactions**:\n",
      "   - These reactions take place in the thylakoid membranes of the chloroplasts.\n",
      "   - When chlorophyll absorbs sunlight, it excites electrons, which are then transferred through a series of proteins known as the electron transport chain.\n",
      "   - This process generates ATP (adenosine triphosphate) and NADPH (nicotinamide adenine dinucleotide phosphate), both of which carry energy and reducing power, respectively.\n",
      "   - Water is split (photolysis), producing oxygen as a byproduct.\n",
      "\n",
      "2. **Light-independent Reactions (Calvin Cycle)**:\n",
      "   - Occurring in the stroma of the chloroplasts, these reactions do not directly require light.\n",
      "   - The ATP and NADPH produced in the light-dependent reactions are used to convert carbon dioxide into glucose through a series of reactions.\n",
      "   - The Calvin cycle involves fixation of carbon dioxide onto ribulose bisphosphate (RuBP) through an enzyme called RuBisCO, followed by reduction and regeneration steps to ultimately produce glucose and other carbohydrates.\n",
      "\n",
      "### Overall Equation:\n",
      "\n",
      "The overall chemical equation for photosynthesis can be summarized as:\n",
      "\n",
      "\\[ \n",
      "6CO_2 + 6H_2O + light \\ energy \\rightarrow C_6H_{12}O_6 + 6O_2 \n",
      "\\]\n",
      "\n",
      "### Importance of Photosynthesis:\n",
      "\n",
      "- **Source of Oxygen**: Photosynthesis is responsible for producing oxygen, which is essential for the survival of aerobic organisms, including humans.\n",
      "- **Basis of Food Chains**: Plants serve as primary producers in ecosystems, forming the base of food chains and supporting herbivores and, subsequently, carnivores.\n",
      "- **Carbon Dioxide Utilization**: Photosynthesis helps regulate atmospheric CO₂ levels, thus playing a crucial role in mitigating climate change.\n",
      "\n",
      "In summary, photosynthesis is an essential life-sustaining process that converts solar energy into chemical energy, providing food and oxygen for a myriad of organisms on Earth.\n",
      "\n",
      "================================================================================\n",
      "\n"
     ]
    }
   ],
   "source": [
    "# Example 1A: Generic response (no system message)\n",
    "response = chat_client.chat.completions.create(\n",
    "    model=os.getenv(\"OPENAI_MODEL\", \"gpt-4o-mini\"),\n",
    "    messages=[\n",
    "        {\"role\": \"user\", \"content\": \"Explain photosynthesis\"}\n",
    "    ]\n",
    ")\n",
    "\n",
    "print(\"WITHOUT System Message:\")\n",
    "print(response.choices[0].message.content)\n",
    "print(\"\\n\" + \"=\"*80 + \"\\n\")"
   ]
  },
  {
   "cell_type": "code",
   "execution_count": 4,
   "id": "example1b",
   "metadata": {},
   "outputs": [
    {
     "name": "stdout",
     "output_type": "stream",
     "text": [
      "WITH System Message (5th grade teacher):\n",
      "Sure! Let's break down photosynthesis in a simple way.\n",
      "\n",
      "Photosynthesis is a process that plants use to make their own food, and it mostly happens in the leaves. You can think of it like cooking a meal, but plants don’t have grocery stores or kitchens!\n",
      "\n",
      "Here’s how it works:\n",
      "\n",
      "1. **Ingredients**: Plants need three main ingredients to make food:\n",
      "   - **Sunlight**: This is the energy source, just like how we need electricity or gas to cook.\n",
      "   - **Carbon Dioxide (CO2)**: This gas is found in the air. Plants take this in through tiny openings in their leaves called stomata.\n",
      "   - **Water (H2O)**: Plants absorb water through their roots from the soil.\n",
      "\n",
      "2. **Cooking Process**: Inside the leaves, there are special parts called chloroplasts that contain a green pigment called chlorophyll. Chlorophyll is what captures sunlight, similar to how solar panels capture sunlight to make electricity. This sunlight, along with carbon dioxide and water, gets combined in these chloroplasts.\n",
      "\n",
      "3. **The Meal**: During this process, the plant turns the sunlight, water, and carbon dioxide into glucose (a type of sugar) and oxygen. The glucose is like the plant’s food, giving it energy to grow and thrive. The oxygen is a byproduct, which means it’s something that the plant makes but doesn’t need. It releases the oxygen into the air, which is great for us because we need it to breathe!\n",
      "\n",
      "So, to sum it up, photosynthesis is how plants use sunlight, air, and water to make their own food and produce oxygen. This is important not just for the plants, but for all living things on Earth! Just like we need food to energy to grow, so do plants. And they help keep our air clean by producing oxygen!\n"
     ]
    }
   ],
   "source": [
    "# Example 1B: Targeted response (with system message)\n",
    "response = chat_client.chat.completions.create(\n",
    "    model=os.getenv(\"OPENAI_MODEL\", \"gpt-4o-mini\"),\n",
    "    messages=[\n",
    "        {\"role\": \"system\", \"content\": \"You are a 5th grade science teacher. Explain concepts simply using everyday examples.\"},\n",
    "        {\"role\": \"user\", \"content\": \"Explain photosynthesis\"}\n",
    "    ]\n",
    ")\n",
    "\n",
    "print(\"WITH System Message (5th grade teacher):\")\n",
    "print(response.choices[0].message.content)"
   ]
  },
  {
   "cell_type": "markdown",
   "id": "section2",
   "metadata": {},
   "source": [
    "## 2. Temperature and Sampling Parameters\n",
    "\n",
    "**Temperature** controls randomness/creativity:\n",
    "- `0.0` = Deterministic, focused, consistent\n",
    "- `1.0` = Creative, varied, unpredictable\n",
    "- `2.0` = Very creative (can be chaotic)\n",
    "\n",
    "**Top_p** (nucleus sampling): Alternative to temperature\n",
    "**Max_tokens**: Controls response length"
   ]
  },
  {
   "cell_type": "code",
   "execution_count": 5,
   "id": "example2a",
   "metadata": {},
   "outputs": [
    {
     "name": "stdout",
     "output_type": "stream",
     "text": [
      "Temperature 0.0 (Run this multiple times - notice consistency):\n",
      "In a world where emotions were forbidden, a lonely robot discovered an old love song and, for the first time, felt the bittersweet ache of longing.\n",
      "\n",
      "================================================================================\n",
      "\n"
     ]
    }
   ],
   "source": [
    "# Example 2A: Low temperature (deterministic)\n",
    "response = chat_client.chat.completions.create(\n",
    "    model=os.getenv(\"OPENAI_MODEL\", \"gpt-4o-mini\"),\n",
    "    messages=[\n",
    "        {\"role\": \"system\", \"content\": \"You are a creative writing assistant.\"},\n",
    "        {\"role\": \"user\", \"content\": \"Write a one-sentence story about a robot.\"}\n",
    "    ],\n",
    "    temperature=0.0\n",
    ")\n",
    "\n",
    "print(\"Temperature 0.0 (Run this multiple times - notice consistency):\")\n",
    "print(response.choices[0].message.content)\n",
    "print(\"\\n\" + \"=\"*80 + \"\\n\")"
   ]
  },
  {
   "cell_type": "code",
   "execution_count": null,
   "id": "example2b",
   "metadata": {},
   "outputs": [],
   "source": [
    "# Example 2B: High temperature (creative)\n",
    "response = chat_client.chat.completions.create(\n",
    "    model=os.getenv(\"OPENAI_MODEL\", \"gpt-4o-mini\"),\n",
    "    messages=[\n",
    "        {\"role\": \"system\", \"content\": \"You are a creative writing assistant.\"},\n",
    "        {\"role\": \"user\", \"content\": \"Write a one-sentence story about a robot.\"}\n",
    "    ],\n",
    "    temperature=1.8\n",
    ")\n",
    "\n",
    "print(\"Temperature 1.8 (Run this multiple times - notice variety):\")\n",
    "print(response.choices[0].message.content)"
   ]
  },
  {
   "cell_type": "code",
   "execution_count": null,
   "id": "example2c",
   "metadata": {},
   "outputs": [],
   "source": [
    "# Example 2C: Controlling length with max_tokens\n",
    "response = chat_client.chat.completions.create(\n",
    "    model=os.getenv(\"OPENAI_MODEL\", \"gpt-4o-mini\"),\n",
    "    messages=[\n",
    "        {\"role\": \"user\", \"content\": \"List 10 programming languages\"}\n",
    "    ],\n",
    "    max_tokens=50  # Limit response length\n",
    ")\n",
    "\n",
    "print(\"With max_tokens=50:\")\n",
    "print(response.choices[0].message.content)\n",
    "print(f\"\\nTokens used: {response.usage.completion_tokens}\")"
   ]
  },
  {
   "cell_type": "markdown",
   "id": "section3",
   "metadata": {},
   "source": [
    "## 3. Few-Shot Learning\n",
    "\n",
    "**Few-shot prompting** = Providing examples to guide the model's behavior.\n",
    "\n",
    "Instead of just telling the AI what to do, you show it examples of input → output."
   ]
  },
  {
   "cell_type": "code",
   "execution_count": null,
   "id": "example3a",
   "metadata": {},
   "outputs": [],
   "source": [
    "# Example 3A: Zero-shot (no examples)\n",
    "response = chat_client.chat.completions.create(\n",
    "    model=os.getenv(\"OPENAI_MODEL\", \"gpt-4o-mini\"),\n",
    "    messages=[\n",
    "        {\"role\": \"user\", \"content\": \"Translate to pirate speak: Hello, how are you?\"}\n",
    "    ]\n",
    ")\n",
    "\n",
    "print(\"Zero-shot (no examples):\")\n",
    "print(response.choices[0].message.content)\n",
    "print(\"\\n\" + \"=\"*80 + \"\\n\")"
   ]
  },
  {
   "cell_type": "code",
   "execution_count": null,
   "id": "example3b",
   "metadata": {},
   "outputs": [],
   "source": [
    "# Example 3B: Few-shot (with examples)\n",
    "response = chat_client.chat.completions.create(\n",
    "    model=os.getenv(\"OPENAI_MODEL\", \"gpt-4o-mini\"),\n",
    "    messages=[\n",
    "        {\"role\": \"system\", \"content\": \"You translate English to pirate speak.\"},\n",
    "        {\"role\": \"user\", \"content\": \"Good morning\"},\n",
    "        {\"role\": \"assistant\", \"content\": \"Top o' the mornin' to ye!\"},\n",
    "        {\"role\": \"user\", \"content\": \"Where is the treasure?\"},\n",
    "        {\"role\": \"assistant\", \"content\": \"Where be the booty?\"},\n",
    "        {\"role\": \"user\", \"content\": \"Hello, how are you?\"}\n",
    "    ]\n",
    ")\n",
    "\n",
    "print(\"Few-shot (with examples):\")\n",
    "print(response.choices[0].message.content)"
   ]
  },
  {
   "cell_type": "code",
   "execution_count": null,
   "id": "example3c",
   "metadata": {},
   "outputs": [],
   "source": [
    "# Example 3C: Few-shot for structured output\n",
    "response = chat_client.chat.completions.create(\n",
    "    model=os.getenv(\"OPENAI_MODEL\", \"gpt-4o-mini\"),\n",
    "    messages=[\n",
    "        {\"role\": \"system\", \"content\": \"Extract product name and price from text.\"},\n",
    "        {\"role\": \"user\", \"content\": \"I bought a laptop for $899\"},\n",
    "        {\"role\": \"assistant\", \"content\": \"Product: laptop | Price: $899\"},\n",
    "        {\"role\": \"user\", \"content\": \"The coffee maker costs $49.99\"},\n",
    "        {\"role\": \"assistant\", \"content\": \"Product: coffee maker | Price: $49.99\"},\n",
    "        {\"role\": \"user\", \"content\": \"I just purchased wireless headphones for $129\"}\n",
    "    ]\n",
    ")\n",
    "\n",
    "print(\"Few-shot for data extraction:\")\n",
    "print(response.choices[0].message.content)"
   ]
  },
  {
   "cell_type": "markdown",
   "id": "section4",
   "metadata": {},
   "source": [
    "## 4. Prompt Templates and Best Practices\n",
    "\n",
    "Create reusable prompt templates for common tasks.\n",
    "\n",
    "### Best Practices:\n",
    "1. **Be specific** - Vague prompts = vague results\n",
    "2. **Use delimiters** - Separate instructions from content\n",
    "3. **Specify format** - Tell the model how to structure output\n",
    "4. **Give context** - Provide relevant background information\n",
    "5. **Use constraints** - Set length, style, or content boundaries"
   ]
  },
  {
   "cell_type": "code",
   "execution_count": null,
   "id": "example4a",
   "metadata": {},
   "outputs": [],
   "source": [
    "# Example 4A: Bad prompt (vague)\n",
    "response = chat_client.chat.completions.create(\n",
    "    model=os.getenv(\"OPENAI_MODEL\", \"gpt-4o-mini\"),\n",
    "    messages=[\n",
    "        {\"role\": \"user\", \"content\": \"Tell me about Python\"}\n",
    "    ]\n",
    ")\n",
    "\n",
    "print(\"Vague Prompt:\")\n",
    "print(response.choices[0].message.content)\n",
    "print(\"\\n\" + \"=\"*80 + \"\\n\")"
   ]
  },
  {
   "cell_type": "code",
   "execution_count": null,
   "id": "example4b",
   "metadata": {},
   "outputs": [],
   "source": [
    "# Example 4B: Good prompt (specific with constraints)\n",
    "response = chat_client.chat.completions.create(\n",
    "    model=os.getenv(\"OPENAI_MODEL\", \"gpt-4o-mini\"),\n",
    "    messages=[\n",
    "        {\"role\": \"system\", \"content\": \"You are a programming tutor for beginners.\"},\n",
    "        {\"role\": \"user\", \"content\": \"\"\"Explain Python programming language.\n",
    "        \n",
    "Requirements:\n",
    "- Target audience: Complete beginners\n",
    "- Length: 3-4 sentences\n",
    "- Include: What it's used for and one key benefit\n",
    "- Tone: Encouraging and simple\"\"\"}\n",
    "    ]\n",
    ")\n",
    "\n",
    "print(\"Specific Prompt with Constraints:\")\n",
    "print(response.choices[0].message.content)"
   ]
  },
  {
   "cell_type": "code",
   "execution_count": 6,
   "id": "example4c",
   "metadata": {},
   "outputs": [
    {
     "name": "stdout",
     "output_type": "stream",
     "text": [
      "Using Reusable Template:\n",
      "Artificial intelligence, particularly machine learning and large language models, is revolutionizing various sectors by enhancing automation, customer service, content creation, and education through pattern recognition and human-like text generation.\n"
     ]
    }
   ],
   "source": [
    "# Example 4C: Reusable template function\n",
    "def summarize_text(text, word_limit=50):\n",
    "    \"\"\"Reusable template for text summarization\"\"\"\n",
    "    response = chat_client.chat.completions.create(\n",
    "        model=os.getenv(\"OPENAI_MODEL\", \"gpt-4o-mini\"),\n",
    "        messages=[\n",
    "            {\"role\": \"system\", \"content\": \"You are a professional summarization assistant.\"},\n",
    "            {\"role\": \"user\", \"content\": f\"\"\"Summarize the following text in {word_limit} words or less:\n",
    "            \n",
    "Text to summarize:\n",
    "---\n",
    "{text}\n",
    "---\n",
    "\n",
    "Summary:\"\"\"}\n",
    "        ],\n",
    "        temperature=0.3\n",
    "    )\n",
    "    return response.choices[0].message.content\n",
    "\n",
    "# Test the template\n",
    "long_text = \"\"\"Artificial intelligence is transforming the way we live and work. \n",
    "Machine learning algorithms can now recognize patterns in data, make predictions, \n",
    "and even generate creative content. Large language models like GPT can understand \n",
    "and generate human-like text, opening up new possibilities for automation, \n",
    "customer service, content creation, and education.\"\"\"\n",
    "\n",
    "summary = summarize_text(long_text, word_limit=30)\n",
    "print(\"Using Reusable Template:\")\n",
    "print(summary)"
   ]
  },
  {
   "cell_type": "markdown",
   "id": "section5",
   "metadata": {},
   "source": [
    "## 5. Output Formatting Techniques\n",
    "\n",
    "Guide the model to produce structured outputs like JSON, bullet points, or tables."
   ]
  },
  {
   "cell_type": "code",
   "execution_count": null,
   "id": "example5a",
   "metadata": {},
   "outputs": [],
   "source": [
    "# Example 5A: JSON output\n",
    "response = chat_client.chat.completions.create(\n",
    "    model=os.getenv(\"OPENAI_MODEL\", \"gpt-4o-mini\"),\n",
    "    messages=[\n",
    "        {\"role\": \"system\", \"content\": \"You extract information and return valid JSON only.\"},\n",
    "        {\"role\": \"user\", \"content\": \"\"\"Extract information from this text and return as JSON:\n",
    "        \n",
    "Text: \"John Smith, 28 years old, works as a Software Engineer at TechCorp in Seattle.\"\n",
    "\n",
    "JSON format:\n",
    "{\n",
    "  \"name\": \"...\",\n",
    "  \"age\": ...,\n",
    "  \"occupation\": \"...\",\n",
    "  \"company\": \"...\",\n",
    "  \"location\": \"...\"\n",
    "}\"\"\"}\n",
    "    ],\n",
    "    temperature=0\n",
    ")\n",
    "\n",
    "print(\"JSON Output:\")\n",
    "print(response.choices[0].message.content)\n",
    "\n",
    "# Parse the JSON\n",
    "import json\n",
    "try:\n",
    "    data = json.loads(response.choices[0].message.content)\n",
    "    print(\"\\nParsed successfully! Name:\", data[\"name\"])\n",
    "except:\n",
    "    print(\"\\nCouldn't parse as JSON\")"
   ]
  },
  {
   "cell_type": "code",
   "execution_count": null,
   "id": "example5b",
   "metadata": {},
   "outputs": [],
   "source": [
    "# Example 5B: Markdown table\n",
    "response = chat_client.chat.completions.create(\n",
    "    model=os.getenv(\"OPENAI_MODEL\", \"gpt-4o-mini\"),\n",
    "    messages=[\n",
    "        {\"role\": \"user\", \"content\": \"\"\"Create a comparison table of Python, JavaScript, and Java.\n",
    "        \n",
    "Format as markdown table with columns: Language, Type, Primary Use, Difficulty\n",
    "Keep it brief - one word or short phrase per cell.\"\"\"}\n",
    "    ]\n",
    ")\n",
    "\n",
    "print(\"Markdown Table Output:\")\n",
    "print(response.choices[0].message.content)"
   ]
  },
  {
   "cell_type": "markdown",
   "id": "exercises",
   "metadata": {},
   "source": [
    "## Practice Exercises\n",
    "\n",
    "Try these exercises to reinforce your learning:\n",
    "\n",
    "### Exercise 1: System Message Design\n",
    "Create a system message that makes the AI act as a:\n",
    "- Tech support agent\n",
    "- Poet\n",
    "- Code reviewer\n",
    "\n",
    "### Exercise 2: Temperature Experiment\n",
    "Use the same prompt with temperatures 0, 0.7, and 1.5. Compare outputs.\n",
    "\n",
    "### Exercise 3: Few-Shot Email Classifier\n",
    "Create a few-shot prompt that classifies emails as: \"Urgent\", \"Normal\", or \"Spam\"\n",
    "\n",
    "### Exercise 4: Structured Data Extraction\n",
    "Extract movie information (title, year, genre) from text and output as JSON.\n",
    "\n",
    "### Exercise 5: Build a Template\n",
    "Create a reusable function that translates text to any language with consistent formatting."
   ]
  },
  {
   "cell_type": "code",
   "execution_count": null,
   "id": "exercise_space",
   "metadata": {},
   "outputs": [],
   "source": [
    "# Your exercise code here\n",
    "# Exercise 1:\n",
    "\n",
    "\n",
    "# Exercise 2:\n",
    "\n",
    "\n",
    "# Exercise 3:\n",
    "\n",
    "\n",
    "# Exercise 4:\n",
    "\n",
    "\n",
    "# Exercise 5:\n"
   ]
  },
  {
   "cell_type": "markdown",
   "id": "summary",
   "metadata": {},
   "source": [
    "## Key Takeaways\n",
    "\n",
    "1. **System messages** set AI behavior - use them to define role and style\n",
    "2. **Temperature** controls creativity: low (0-0.3) for consistency, high (0.7-2.0) for variety\n",
    "3. **Few-shot learning** shows examples of desired input/output patterns\n",
    "4. **Specific prompts** with constraints yield better results than vague requests\n",
    "5. **Structured outputs** (JSON, tables) make AI responses easier to process programmatically\n",
    "\n",
    "## Next Steps\n",
    "\n",
    "In Lesson 3, we'll explore:\n",
    "- Streaming responses for real-time output\n",
    "- Building interactive chat interfaces\n",
    "- Handling partial responses and errors\n",
    "\n",
    "## Additional Resources\n",
    "\n",
    "- [OpenAI Prompt Engineering Guide](https://platform.openai.com/docs/guides/prompt-engineering)\n",
    "- [Best Practices for Prompt Engineering](https://help.openai.com/en/articles/6654000-best-practices-for-prompt-engineering-with-openai-api)"
   ]
  }
 ],
 "metadata": {
  "kernelspec": {
   "display_name": ".venv",
   "language": "python",
   "name": "python3"
  },
  "language_info": {
   "codemirror_mode": {
    "name": "ipython",
    "version": 3
   },
   "file_extension": ".py",
   "mimetype": "text/x-python",
   "name": "python",
   "nbconvert_exporter": "python",
   "pygments_lexer": "ipython3",
   "version": "3.11.3"
  }
 },
 "nbformat": 4,
 "nbformat_minor": 5
}
