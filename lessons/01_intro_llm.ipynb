{
  "cells": [
    {
      "cell_type": "markdown",
      "id": "intro-md-1",
      "metadata": {
        "language": "markdown"
      },
      "source": [
        "# Lesson 1: Introduction to LLMs\n",
        "\n",
        "This lesson shows basic usage of the OpenAI Python SDK, how to configure the client from environment variables, and a simple chat example."
      ]
    },
    {
      "cell_type": "markdown",
      "id": "topics-md-2",
      "metadata": {
        "language": "markdown"
      },
      "source": [
        "## Topics Covered\n",
        "\n",
        "1. Loading environment variables\n",
        "2. Creating the OpenAI client\n",
        "3. Sending a chat completion request\n",
        "4. Counting words in the model response"
      ]
    },
    {
      "cell_type": "code",
      "execution_count": 1,
      "id": "setup-code-1",
      "metadata": {
        "language": "python"
      },
      "outputs": [
        {
          "name": "stdout",
          "output_type": "stream",
          "text": [
            "OpenAI package version: 2.6.0\n"
          ]
        }
      ],
      "source": [
        "# Install required packages if not already installed\n",
        "#%pip install python-dotenv\n",
        "#%pip install openai\n",
        "\n",
        "# Load environment variables from .env file\n",
        "import os\n",
        "from dotenv import load_dotenv\n",
        "load_dotenv()\n",
        "import openai\n",
        "print(\"OpenAI package version:\", openai.__version__)"
      ]
    },
    {
      "cell_type": "code",
      "execution_count": 2,
      "id": "client-code-1",
      "metadata": {
        "language": "python"
      },
      "outputs": [
        {
          "name": "stdout",
          "output_type": "stream",
          "text": [
            "Client configured successfully!\n"
          ]
        }
      ],
      "source": [
        "# Set up the OpenAI client with environment variables (safe parsing for integer env vars)\n",
        "import re\n",
        "\n",
        "def get_int_env(name, default):\n",
        "    v = os.getenv(name)\n",
        "    if v is None or str(v).strip() == \"\":\n",
        "        return int(default)\n",
        "    # extract first integer-like token (handles values like '\"30\" # in seconds')\n",
        "    m = re.search(r\"-?\\d+\", str(v))\n",
        "    return int(m.group()) if m else int(default)\n",
        "\n",
        "chat_client = openai.OpenAI(\n",
        "    api_key=os.getenv(\"OPENAI_API_KEY\"),\n",
        "    timeout=get_int_env(\"OPENAI_TIMEOUT\", 30),\n",
        "    max_retries=get_int_env(\"MAX_RETRIES\", 3),\n",
        "    base_url=os.getenv(\"OPENAI_ENDPOINT\")\n",
        ")\n",
        "\n",
        "print(\"Client configured successfully!\")"
      ]
    },
    {
      "cell_type": "code",
      "execution_count": null,
      "id": "example-chat-1",
      "metadata": {
        "language": "python"
      },
      "outputs": [
        {
          "name": "stdout",
          "output_type": "stream",
          "text": [
            "Once upon a time, in a sky filled with twinkling stars, lived a gentle Moon named Luna. Every night, she watched over the world below, shining brightly and guiding lost travelers. But one night, a dark cloud rolled in, hiding her light and making the stars tremble with fear.\n",
            "\n",
            "“Don’t worry,” whispered a tiny star named Twinkle. “We can still shine together!” But the other stars were too scared of the darkness.\n",
            "\n",
            "Luna took a deep breath. “We must be brave,” she said. “If we shine with all our hearts, we can push the cloud away!”\n",
            "\n",
            "With newfound courage, Twinkle and the other stars began to twinkle brightly. Luna joined in, her glow growing stronger. Together, they filled the sky with shimmering light, casting away the dark cloud.\n",
            "\n",
            "As the cloud drifted away, the stars cheered. “We did it!” they exclaimed. Luna smiled down at them. “Courage is not the absence of fear, but the strength to shine through it.”\n",
            "\n",
            "From that night on, whenever darkness threatened, Luna and her brave stars would light up the sky, reminding everyone that courage can conquer even the darkest of nights. \n",
            "\n",
            "And with that, they all fell asleep, dreaming of their next adventure.\n"
          ]
        }
      ],
      "source": [
        "# Create a chat completion to generate a kids story\n",
        "response = chat_client.chat.completions.create(\n",
        "    model=os.getenv(\"OPENAI_MODEL\", \"gpt-4o-mini\"),\n",
        "    messages=[\n",
        "        {\"role\": \"system\", \"content\": \"You are a helpful kids story writing assistant. Story length <= 200 words.\"},\n",
        "        {\"role\": \"user\", \"content\": \"Compose a bed time story. Theme: courage. Characters: moon and stars\"}\n",
        "    ],\n",
        "    temperature=0.3\n",
        ")\n",
        "\n",
        "# Print the response\n",
        "storyText = response.choices[0].message.content\n",
        "print(storyText)"
      ]
    }
  ],
  "metadata": {
    "kernelspec": {},
    "language_info": {
      "name": "python"
    }
  },
  "nbformat": 4,
  "nbformat_minor": 5
}
