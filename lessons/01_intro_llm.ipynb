{
  "cells": [
    {
      "cell_type": "markdown",
      "id": "intro-md-1",
      "metadata": {
        "language": "markdown"
      },
      "source": [
        "# Lesson 1: Introduction to LLMs\n",
        "\n",
        "This lesson shows basic usage of the OpenAI Python SDK, how to configure the client from environment variables, and a simple chat example."
      ]
    },
    {
      "cell_type": "markdown",
      "id": "topics-md-2",
      "metadata": {
        "language": "markdown"
      },
      "source": [
        "## Topics Covered\n",
        "\n",
        "1. Loading environment variables\n",
        "2. Creating the OpenAI client\n",
        "3. Sending a chat completion request"
      ]
    },
    {
      "cell_type": "code",
      "execution_count": null,
      "id": "setup-code-1",
      "metadata": {
        "language": "python"
      },
      "outputs": [],
      "source": [
        "# Install required packages if not already installed\n",
        "#%pip install python-dotenv\n",
        "#%pip install openai\n",
        "\n",
        "# Load environment variables from .env file\n",
        "import os\n",
        "from dotenv import load_dotenv\n",
        "load_dotenv()\n",
        "import openai\n",
        "print(\"OpenAI package version:\", openai.__version__)"
      ]
    },
    {
      "cell_type": "code",
      "execution_count": null,
      "id": "client-code-1",
      "metadata": {
        "language": "python"
      },
      "outputs": [],
      "source": [
        "# Set up the OpenAI client with environment variables (safe parsing for integer env vars)\n",
        "import re\n",
        "\n",
        "def get_int_env(name, default):\n",
        "    v = os.getenv(name)\n",
        "    if v is None or str(v).strip() == \"\":\n",
        "        return int(default)\n",
        "    # extract first integer-like token (handles values like '\"30\" # in seconds')\n",
        "    m = re.search(r\"-?\\d+\", str(v))\n",
        "    return int(m.group()) if m else int(default)\n",
        "\n",
        "chat_client = openai.OpenAI(\n",
        "    api_key=os.getenv(\"OPENAI_API_KEY\"),\n",
        "    timeout=get_int_env(\"OPENAI_TIMEOUT\", 30),\n",
        "    max_retries=get_int_env(\"MAX_RETRIES\", 3),\n",
        "    base_url=os.getenv(\"OPENAI_ENDPOINT\")\n",
        ")\n",
        "\n",
        "print(\"Client configured successfully!\")"
      ]
    },
    {
      "cell_type": "code",
      "execution_count": null,
      "id": "example-chat-1",
      "metadata": {
        "language": "python"
      },
      "outputs": [],
      "source": [
        "# Create a chat completion to generate a kids story\n",
        "response = chat_client.chat.completions.create(\n",
        "    model=os.getenv(\"OPENAI_MODEL\", \"gpt-4o-mini\"),\n",
        "    messages=[\n",
        "        {\"role\": \"system\", \"content\": \"You are a helpful kids story writing assistant. Story length <= 200 words.\"},\n",
        "        {\"role\": \"user\", \"content\": \"Compose a bed time story. Theme: courage. Characters: moon and stars\"}\n",
        "    ],\n",
        "    temperature=0.3\n",
        ")\n",
        "\n",
        "# Print the response\n",
        "storyText = response.choices[0].message.content\n",
        "print(storyText)"
      ]
    }
  ],
  "metadata": {
    "kernelspec": {},
    "language_info": {
      "name": "python"
    }
  },
  "nbformat": 4,
  "nbformat_minor": 5
}
