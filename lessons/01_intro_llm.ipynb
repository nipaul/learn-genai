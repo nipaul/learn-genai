{
 "cells": [
  {
   "cell_type": "code",
   "execution_count": null,
   "id": "c5600fd1",
   "metadata": {},
   "outputs": [],
   "source": [
    "#%pip install python-dotenv\n",
    "#%pip install openai\n",
    "\n",
    "import os\n",
    "from dotenv import load_dotenv\n",
    "load_dotenv()\n",
    "import openai\n",
    "print(\"OpenAI package version:\", openai.__version__)\n"
   ]
  },
  {
   "cell_type": "code",
   "execution_count": null,
   "id": "c3510aa6",
   "metadata": {},
   "outputs": [],
   "source": [
    "#use the openai python sdk\n",
    "chat_client = None\n",
    "\n",
    "if os.getenv(\"OPENAI_ENDPOINT\") and os.getenv(\"OPENAI_API_KEY\"):\n",
    "    chat_client = openai.ChatCompletion\n",
    "else:\n",
    "    print(\"OPENAI_ENDPOINT or OPENAI_API_KEY environment variables not set. Using default OpenAI API endpoint.\")\n",
    "\n",
    "chat_client = openai.OpenAI(\n",
    "    api_key=os.getenv(\"OPENAI_API_KEY\"),\n",
    "    timeout=int(os.getenv(\"OPENAI_TIMEOUT\", 30)),\n",
    "    max_retries=int(os.getenv(\"MAX_RETRIES\", 3)),\n",
    "    base_url=os.getenv(\"OPENAI_ENDPOINT\")    \n",
    ")"
   ]
  },
  {
   "cell_type": "code",
   "execution_count": null,
   "id": "fe61a903",
   "metadata": {},
   "outputs": [],
   "source": [
    "response = chat_client.chat.completions.create(\n",
    "    model=os.getenv(\"OPENAI_MODEL\", \"gpt-4o-mini\"),\n",
    "    messages=[\n",
    "        {\"role\": \"system\", \"content\": \"You are a helpful kids story writing assistant.\"},\n",
    "        {\"role\": \"user\", \"content\": \"Compose a bed time story. Story length <= 200 words. Theme: friendship. Characters: moon and stars\"}\n",
    "    ]\n",
    ")\n",
    "\n",
    "print(\"Response from OpenAI:\")\n",
    "print(response.choices[0].message.content)\n",
    "  "
   ]
  }
 ],
 "metadata": {
  "kernelspec": {
   "display_name": ".venv",
   "language": "python",
   "name": "python3"
  },
  "language_info": {
   "codemirror_mode": {
    "name": "ipython",
    "version": 3
   },
   "file_extension": ".py",
   "mimetype": "text/x-python",
   "name": "python",
   "nbconvert_exporter": "python",
   "pygments_lexer": "ipython3",
   "version": "3.13.5"
  }
 },
 "nbformat": 4,
 "nbformat_minor": 5
}
