{
 "cells": [
  {
   "cell_type": "code",
   "execution_count": 4,
   "id": "c5600fd1",
   "metadata": {},
   "outputs": [
    {
     "name": "stdout",
     "output_type": "stream",
     "text": [
      "OpenAI package version: 2.2.0\n"
     ]
    }
   ],
   "source": [
    "#%pip install python-dotenv\n",
    "#%pip install openai\n",
    "\n",
    "import os\n",
    "from dotenv import load_dotenv\n",
    "load_dotenv()\n",
    "import openai\n",
    "print(\"OpenAI package version:\", openai.__version__)\n"
   ]
  },
  {
   "cell_type": "code",
   "execution_count": null,
   "id": "c3510aa6",
   "metadata": {},
   "outputs": [
    {
     "data": {
      "text/plain": [
       "URL('https://api.openai.com/v1/')"
      ]
     },
     "execution_count": 2,
     "metadata": {},
     "output_type": "execute_result"
    }
   ],
   "source": [
    "#use the openai python sdk\n",
    "chat_client = None\n",
    "\n",
    "if os.getenv(\"OPENAI_ENDPOINT\") and os.getenv(\"OPENAI_API_KEY\"):\n",
    "    chat_client = openai.ChatCompletion\n",
    "else:\n",
    "    print(\"OPENAI_ENDPOINT or OPENAI_API_KEY environment variables not set. Using default OpenAI API endpoint.\")\n",
    "\n",
    "chat_client = openai.OpenAI(\n",
    "    api_key=os.getenv(\"OPENAI_API_KEY\"),\n",
    "    timeout=int(os.getenv(\"OPENAI_TIMEOUT\", 30)),\n",
    "    max_retries=int(os.getenv(\"MAX_RETRIES\", 3)),\n",
    "    base_url=os.getenv(\"OPENAI_ENDPOINT\")    \n",
    ")"
   ]
  },
  {
   "cell_type": "code",
   "execution_count": null,
   "id": "fe61a903",
   "metadata": {},
   "outputs": [
    {
     "name": "stdout",
     "output_type": "stream",
     "text": [
      "Response from OpenAI:\n",
      "**Title: Moonbeam and the Shimmering Stars**\n",
      "\n",
      "Once upon a time, in a sky painted deep blue, there lived a gentle Moon named Moonbeam. Every night, she glowed softly, watching over the world below. But Moonbeam felt a tiny bit lonely, for the stars were scattered far away and twinkled just beyond her reach.\n",
      "\n",
      "One magical evening, during a warm summer night, Moonbeam sighed, wishing she had friends to share her light with. Suddenly, a sparkly little star named Twinkle heard her wish. With a flicker of joy, Twinkle gathered all his starry friends, and together they danced closer to the Moon.\n",
      "\n",
      "\"Hello, Moonbeam!\" cheered Twinkle. \"We heard you were lonely! Let’s play!\"\n",
      "\n",
      "Moonbeam’s glow brightened as she replied, \"Oh, I’d love to play with you!\"\n",
      "\n",
      "The stars sprinkled silver dust in the air, and soon they were playing hide-and-seek among the clouds, twirling and swirling in delight. With every laugh and giggle, Moonbeam felt the warmth of friendship fill the night sky.\n",
      "\n",
      "From that day on, Moonbeam never felt lonely again. The stars visited her each night, and together they filled the sky with joy, laughter, and the brightest light of friendship.\n",
      "\n",
      "And as they twinkled, they whispered, “Together, we are never alone.”\n",
      "\n",
      "**The End**\n"
     ]
    }
   ],
   "source": [
    "# response = chat_client.chat.completions.create(\n",
    "#     model=os.getenv(\"OPENAI_MODEL\", \"gpt-4o-mini\"),\n",
    "#     messages=[\n",
    "#         {\"role\": \"system\", \"content\": \"You are a helpful kids story writing assistant.\"},\n",
    "#         {\"role\": \"user\", \"content\": \"Compose a bed time story. Story length <= 200 words. Theme: friendship. Characters: moon and stars\"}\n",
    "#     ]\n",
    "# )\n",
    "\n",
    "# print(\"Response from OpenAI:\")\n",
    "# print(response.choices[0].message.content)\n",
    "  "
   ]
  }
 ],
 "metadata": {
  "kernelspec": {
   "display_name": ".venv",
   "language": "python",
   "name": "python3"
  },
  "language_info": {
   "codemirror_mode": {
    "name": "ipython",
    "version": 3
   },
   "file_extension": ".py",
   "mimetype": "text/x-python",
   "name": "python",
   "nbconvert_exporter": "python",
   "pygments_lexer": "ipython3",
   "version": "3.13.5"
  }
 },
 "nbformat": 4,
 "nbformat_minor": 5
}
